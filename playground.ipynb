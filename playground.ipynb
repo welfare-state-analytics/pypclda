{
 "cells": [
  {
   "cell_type": "code",
   "execution_count": 5,
   "metadata": {},
   "outputs": [
    {
     "output_type": "stream",
     "name": "stdout",
     "text": "A\n [[0.18528868 0.6433512  0.38171788 0.14222304]\n [0.42198118 0.65129068 0.86281611 0.73881868]\n [0.9370838  0.10895964 0.49278145 0.04611704]\n [0.46035037 0.14642563 0.17458223 0.75107309]]\n[[3 0 2 1]\n [0 1 3 2]\n [3 1 2 0]\n [1 2 0 3]]\n[[0.14222304 0.18528868 0.38171788 0.6433512 ]\n [0.42198118 0.65129068 0.73881868 0.86281611]\n [0.04611704 0.10895964 0.49278145 0.9370838 ]\n [0.14642563 0.17458223 0.46035037 0.75107309]]\n"
    },
    {
     "output_type": "execute_result",
     "data": {
      "text/plain": "[[(0.14222304428971566, 3),\n  (0.185288684104153, 0),\n  (0.381717882447678, 2),\n  (0.6433511962022134, 1)],\n [(0.42198117610503916, 0),\n  (0.6512906770638834, 1),\n  (0.7388186753779015, 3),\n  (0.862816109271107, 2)],\n [(0.0461170373026788, 3),\n  (0.10895964424448024, 1),\n  (0.4927814523656405, 2),\n  (0.9370837955347795, 0)],\n [(0.1464256323395947, 1),\n  (0.1745822277881084, 2),\n  (0.460350369122247, 0),\n  (0.7510730889718991, 3)]]"
     },
     "metadata": {},
     "execution_count": 5
    }
   ],
   "source": [
    "import numpy as np\n",
    "\n",
    "A = np.random.rand(4,4)\n",
    "print(\"A\\n\", A)\n",
    "\n",
    "I = A.argsort(axis=1)\n",
    "print(I)\n",
    "\n",
    "R = A[np.arange(np.shape(A)[0])[:,np.newaxis], I]\n",
    "\n",
    "print(R)\n",
    "\n",
    "S = list(zip(R.ravel(), I.ravel()))\n",
    "\n",
    "def chunks(l,n):\n",
    "    return [l[i:i+n] for i in range(0, len(l), n) ]\n",
    "\n",
    "chunks(S, I.shape[1])\n",
    "\n",
    "#.reshape(I.shape)\n",
    "\n",
    "\n"
   ]
  },
  {
   "cell_type": "code",
   "execution_count": 56,
   "metadata": {},
   "outputs": [
    {
     "output_type": "stream",
     "name": "stdout",
     "text": "Input array :  [[ 0  1  2  3]\n [ 4  5  6  7]\n [ 8  9 11 10]\n [12 13 20 15]]\nOutput sorteded array indices along axis 0:  [[0 0 0 0]\n [1 1 1 1]\n [2 2 2 2]\n [3 3 3 3]]\nOutput sorteded array indices along axis 1:  [[0 1 2 3]\n [0 1 2 3]\n [0 1 3 2]\n [0 1 3 2]]\n"
    },
    {
     "output_type": "execute_result",
     "data": {
      "text/plain": "array([[[ 0,  1,  2,  3],\n        [ 4,  5,  6,  7],\n        [ 8,  9, 11, 10],\n        [12, 13, 20, 15]],\n\n       [[ 0,  1,  2,  3],\n        [ 4,  5,  6,  7],\n        [ 8,  9, 11, 10],\n        [12, 13, 20, 15]],\n\n       [[ 0,  1,  2,  3],\n        [ 4,  5,  6,  7],\n        [12, 13, 20, 15],\n        [ 8,  9, 11, 10]],\n\n       [[ 0,  1,  2,  3],\n        [ 4,  5,  6,  7],\n        [12, 13, 20, 15],\n        [ 8,  9, 11, 10]]])"
     },
     "metadata": {},
     "execution_count": 56
    }
   ],
   "source": [
    "# Python program explaining \n",
    "# argpartition() function \n",
    "  \n",
    "import numpy as geek \n",
    "  \n",
    "# input 2d array \n",
    "in_arr =  geek.array([\n",
    "    [ 0,  1,  2,  3],\n",
    "    [ 4,  5,  6,  7],\n",
    "    [ 8,  9, 11, 10],\n",
    "    [12, 13, 20, 15]\n",
    "])\n",
    "print (\"Input array : \", in_arr)  \n",
    "  \n",
    "# output sorted array indices \n",
    "out_arr1 = geek.argsort(in_arr, kind ='mergesort', axis = 0) \n",
    "print (\"Output sorteded array indices along axis 0: \", out_arr1) \n",
    "out_arr2 = geek.argsort(in_arr, kind ='heapsort', axis = 1) \n",
    "print (\"Output sorteded array indices along axis 1: \", out_arr2) \n",
    "in_arr[out_arr2]"
   ]
  },
  {
   "cell_type": "code",
   "execution_count": 1,
   "metadata": {},
   "outputs": [],
   "source": [
    "import pypclda\n",
    "import tests\n",
    "import tests.fixture as fixture\n",
    "import pypclda.config_default as config_default\n",
    "import jpype\n",
    "import jpype.imports\n",
    "from jpype.types import *\n",
    "\n",
    "cc = jpype.JPackage(\"cc\")\n",
    "java = jpype.JPackage(\"java\")\n",
    "lda_util = pypclda.get_util()\n"
   ]
  },
  {
   "cell_type": "code",
   "execution_count": 33,
   "metadata": {},
   "outputs": [],
   "source": [
    "import os\n",
    "import math\n",
    "import pytest\n",
    "import logging\n",
    "import unittest\n",
    "import types\n",
    "import pypclda\n",
    "import pypclda.config_default as config_default\n",
    "import tests.fixture as fixture\n",
    "import numpy as np\n",
    "import toolz\n",
    "\n",
    "PCPLDA_JAR_PATH = os.path.join(os.getcwd(), \"lib\", \"PCPLDA-8.5.1.jar\")\n",
    "\n",
    "import jpype\n",
    "import jpype.imports\n",
    "from jpype.types import *\n",
    "\n",
    "cc = jpype.JPackage(\"cc\")\n",
    "java = jpype.JPackage(\"java\")\n",
    "\n",
    "def calculate_top_relevance_tokens(n_top_tokens, type_topic_counts_matrix, beta, _lambda, alphabet):\n",
    "\n",
    "    n_topics = len(type_topic_counts_matrix[0])\n",
    "    n_types  = len(type_topic_counts_matrix)\n",
    "    n_top_tokens = min(n_top_tokens, n_types)\n",
    "\n",
    "    relevance_matrix = np.array(\n",
    "        pypclda.calculate_token_relevance_matrix(type_topic_counts_matrix, beta, _lambda)\n",
    "    )\n",
    "    sorted_indices = relevance_matrix.argsort(axis=1)\n",
    "\n",
    "    sorted_matrix = relevance_matrix[\n",
    "        np.arange(np.shape(relevance_matrix)[0])[:,np.newaxis],\n",
    "        sorted_indices\n",
    "    ]\n",
    "\n",
    "    sliced_indices = np.flip(sorted_indices[:,-n_top_tokens:], axis=1)\n",
    "    sliced_matrix = np.flip(sorted_matrix[:,-n_top_tokens:], axis=1)\n",
    "\n",
    "    descending_token_relevances = (\n",
    "        (str(alphabet.lookupObject(w[1])), w[0], i)\n",
    "            for i, w in enumerate(zip(\n",
    "                    sliced_matrix.ravel(),\n",
    "                    sliced_indices.ravel()\n",
    "                ))\n",
    "    )\n",
    "    return [\n",
    "        [ w for w in row ]\n",
    "            for row in toolz.partition(n_top_tokens, descending_token_relevances)\n",
    "    ]\n"
   ]
  },
  {
   "cell_type": "code",
   "execution_count": 34,
   "metadata": {},
   "outputs": [],
   "source": [
    "#  Arrange\n",
    "n_top_tokens = 20\n",
    "\n",
    "lda_util = cc.mallet.util.LDAUtils()\n",
    "config = fixture.fixture_lda_config()\n",
    "sampler = fixture.fixture_sampler()\n",
    "beta = config.getBeta(config_default.BETA_DEFAULT)\n",
    "type_topic_counts = pypclda.get_token_topic_matrix(sampler)\n",
    "n_types = len(type_topic_counts)\n",
    "n_topics = len(type_topic_counts[0])\n",
    "v_lambda = config.getLambda(config_default.LAMBDA_DEFAULT)\n",
    "alphabet = sampler.getAlphabet()\n",
    "\n",
    "# Act\n",
    "top_token_relevance_python = calculate_top_relevance_tokens(\n",
    "    n_top_tokens, type_topic_counts, beta, v_lambda, alphabet\n",
    ")\n",
    "\n",
    "# Assert\n",
    "top_token_relevance_java = lda_util.getTopRelevanceWords(\n",
    "    n_top_tokens, n_types, n_topics, type_topic_counts,\n",
    "    beta, v_lambda, sampler.getAlphabet()\n",
    ")\n",
    "\n",
    "python_words = [\n",
    "    [ w[0] for w in row ]\n",
    "        for row in top_token_relevance_python\n",
    "]\n",
    "\n",
    "top_token_relevance_java = [ [str(w) for w in ws] for ws in top_token_relevance_java ]\n"
   ]
  },
  {
   "cell_type": "code",
   "execution_count": 53,
   "metadata": {},
   "outputs": [
    {
     "output_type": "display_data",
     "data": {
      "text/plain": "                                  0                                       1  \\\n2                              full                                presence   \n2  (fluff, -2.8738417734110673, 40)  (quick-paced, -2.8738417734110673, 41)   \n\n                                   2                                      3  \\\n2                         hot-headed                                   thus   \n2  (slower, -2.8738417734110673, 42)  (hot-headed, -2.8738417734110673, 43)   \n\n                                      4                                  5  \\\n2                                length                             slower   \n2  (wondering, -2.8738417734110673, 44)  (length, -2.8738417734110673, 45)   \n\n                                     6                                7  \\\n2                            wondering                           fellow   \n2  (presence, -2.8738417734110673, 46)  (meet, -2.8738417734110673, 47)   \n\n                                 8                                 9  \\\n2                             meet                             local   \n2  (done, -2.8738417734110673, 48)  (local, -2.8738417734110673, 49)   \n\n                                 10                                  11  \\\n2                             fluff                                done   \n2  (rooms, -2.8738417734110673, 50)  (editing, -2.8738417734110673, 51)   \n\n                                     12  \\\n2                           interesting   \n2  (close-ups, -2.8738417734110673, 52)   \n\n                                       13                               14  \\\n2                               close-ups                          editing   \n2  (interesting, -2.8738417734110673, 53)  (full, -2.8738417734110673, 54)   \n\n                                  15                               16  \\\n2                        quick-paced                            rooms   \n2  (fellow, -2.8738417734110673, 55)  (thus, -2.8738417734110673, 56)   \n\n                                  17                                  18  \\\n2                             brooks                              beauty   \n2  (beauty, -2.9159859796741974, 57)  (staying, -2.9159859796741974, 58)   \n\n                                  19  \n2                            staying  \n2  (brooks, -2.9159859796741974, 59)  ",
      "text/html": "<div>\n<style scoped>\n    .dataframe tbody tr th:only-of-type {\n        vertical-align: middle;\n    }\n\n    .dataframe tbody tr th {\n        vertical-align: top;\n    }\n\n    .dataframe thead th {\n        text-align: right;\n    }\n</style>\n<table border=\"1\" class=\"dataframe\">\n  <thead>\n    <tr style=\"text-align: right;\">\n      <th></th>\n      <th>0</th>\n      <th>1</th>\n      <th>2</th>\n      <th>3</th>\n      <th>4</th>\n      <th>5</th>\n      <th>6</th>\n      <th>7</th>\n      <th>8</th>\n      <th>9</th>\n      <th>10</th>\n      <th>11</th>\n      <th>12</th>\n      <th>13</th>\n      <th>14</th>\n      <th>15</th>\n      <th>16</th>\n      <th>17</th>\n      <th>18</th>\n      <th>19</th>\n    </tr>\n  </thead>\n  <tbody>\n    <tr>\n      <th>2</th>\n      <td>full</td>\n      <td>presence</td>\n      <td>hot-headed</td>\n      <td>thus</td>\n      <td>length</td>\n      <td>slower</td>\n      <td>wondering</td>\n      <td>fellow</td>\n      <td>meet</td>\n      <td>local</td>\n      <td>fluff</td>\n      <td>done</td>\n      <td>interesting</td>\n      <td>close-ups</td>\n      <td>editing</td>\n      <td>quick-paced</td>\n      <td>rooms</td>\n      <td>brooks</td>\n      <td>beauty</td>\n      <td>staying</td>\n    </tr>\n    <tr>\n      <th>2</th>\n      <td>(fluff, -2.8738417734110673, 40)</td>\n      <td>(quick-paced, -2.8738417734110673, 41)</td>\n      <td>(slower, -2.8738417734110673, 42)</td>\n      <td>(hot-headed, -2.8738417734110673, 43)</td>\n      <td>(wondering, -2.8738417734110673, 44)</td>\n      <td>(length, -2.8738417734110673, 45)</td>\n      <td>(presence, -2.8738417734110673, 46)</td>\n      <td>(meet, -2.8738417734110673, 47)</td>\n      <td>(done, -2.8738417734110673, 48)</td>\n      <td>(local, -2.8738417734110673, 49)</td>\n      <td>(rooms, -2.8738417734110673, 50)</td>\n      <td>(editing, -2.8738417734110673, 51)</td>\n      <td>(close-ups, -2.8738417734110673, 52)</td>\n      <td>(interesting, -2.8738417734110673, 53)</td>\n      <td>(full, -2.8738417734110673, 54)</td>\n      <td>(fellow, -2.8738417734110673, 55)</td>\n      <td>(thus, -2.8738417734110673, 56)</td>\n      <td>(beauty, -2.9159859796741974, 57)</td>\n      <td>(staying, -2.9159859796741974, 58)</td>\n      <td>(brooks, -2.9159859796741974, 59)</td>\n    </tr>\n  </tbody>\n</table>\n</div>"
     },
     "metadata": {}
    }
   ],
   "source": [
    "import pandas as pd\n",
    "\n",
    "df_java = pd.DataFrame(data=top_token_relevance_java, dtype=str)\n",
    "df_python =  pd.DataFrame(data=top_token_relevance_python, dtype=str)\n",
    "\n",
    "df = df_java.append(df_python)\n",
    "\n",
    "display(df.loc[2])\n"
   ]
  },
  {
   "cell_type": "code",
   "execution_count": null,
   "metadata": {},
   "outputs": [],
   "source": []
  }
 ],
 "metadata": {
  "language_info": {
   "codemirror_mode": {
    "name": "ipython",
    "version": 3
   },
   "file_extension": ".py",
   "mimetype": "text/x-python",
   "name": "python",
   "nbconvert_exporter": "python",
   "pygments_lexer": "ipython3",
   "version": "3.8.0-final"
  },
  "orig_nbformat": 2,
  "kernelspec": {
   "name": "python38064bitpypcldapipenv6ba4043ba9d04c7d9559e83a2757e37a",
   "display_name": "Python 3.8.0 64-bit ('pypclda': pipenv)"
  }
 },
 "nbformat": 4,
 "nbformat_minor": 2
}